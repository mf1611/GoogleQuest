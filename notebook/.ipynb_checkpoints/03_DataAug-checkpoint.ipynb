{
 "cells": [
  {
   "cell_type": "code",
   "execution_count": 1,
   "metadata": {},
   "outputs": [],
   "source": [
    "import pandas as pd\n",
    "import numpy as np\n",
    "import math\n",
    "import matplotlib.pyplot as plt\n",
    "import os, sys, gc, random, multiprocessing, glob, time\n",
    "\n",
    "import transformers\n",
    "\n",
    "pd.set_option('display.max_columns', None)\n",
    "\n",
    "#DATA_DIR = '../input/google-quest-challenge'\n",
    "DATA_DIR = 'D:/project/ICF_AutoCapsule_disabled/kaggle/google-quest-challenge'"
   ]
  },
  {
   "cell_type": "code",
   "execution_count": 2,
   "metadata": {},
   "outputs": [],
   "source": [
    "BERT_DIR = 'D:/project/ICF_AutoCapsule_disabled/BERT'\n",
    "CRAWL_EMBEDDING_PATH = 'D:/project/ICF_AutoCapsule_disabled/W2V/crawl-300d-2M.vec'\n",
    "GLOVE_EMBEDDING_PATH = 'D:/project/ICF_AutoCapsule_disabled/W2V/glove.840B.300d.txt'"
   ]
  },
  {
   "cell_type": "code",
   "execution_count": 3,
   "metadata": {},
   "outputs": [],
   "source": [
    "import nlpaug.augmenter.char as nac\n",
    "import nlpaug.augmenter.word as naw\n",
    "import nlpaug.augmenter.sentence as nas\n",
    "import nlpaug.flow as naf\n",
    "\n",
    "from nlpaug.util import Action"
   ]
  },
  {
   "cell_type": "code",
   "execution_count": 4,
   "metadata": {},
   "outputs": [],
   "source": [
    "# import nltk\n",
    "# nltk.download('wordnet')\n",
    "# nltk.download('averaged_perceptron_tagger')"
   ]
  },
  {
   "cell_type": "code",
   "execution_count": 8,
   "metadata": {},
   "outputs": [
    {
     "name": "stdout",
     "output_type": "stream",
     "text": [
      "original:  The quick brown fox jumps over the lazy dog .\n",
      "The quick brown university fox jumps over the otiose frank .\n",
      "The quick brown fox jump complete the lazy hot dog .\n",
      "The ready john brown fox jumps over the slothful dog .\n",
      "The ready brown fox climb up over the faineant dog .\n",
      "The quick john brown fox start over the work shy dog .\n"
     ]
    }
   ],
   "source": [
    "# 上位語や下位語で、文字が置換\n",
    "aug_syn = naw.SynonymAug(\n",
    "    aug_src='wordnet', \n",
    "    \n",
    ")\n",
    "text = 'The quick brown fox jumps over the lazy dog .'\n",
    "print('original: ', text)\n",
    "for _ in range(5):\n",
    "    augmented_text = aug_syn.augment(text)\n",
    "    print(augmented_text)"
   ]
  },
  {
   "cell_type": "code",
   "execution_count": 6,
   "metadata": {},
   "outputs": [
    {
     "name": "stdout",
     "output_type": "stream",
     "text": [
      "original:  Good boy is very good\n",
      "Good female child is very good\n",
      "Good boy differ very good\n",
      "Good daughter is very good\n",
      "Good boy is very evil\n",
      "Good girl is very good\n"
     ]
    }
   ],
   "source": [
    "# 反意語での置換\n",
    "aug = naw.AntonymAug()\n",
    "text = 'Good boy is very good'\n",
    "print('original: ', text)\n",
    "for _ in range(5):\n",
    "    augmented_text = aug.augment(text)\n",
    "    print(augmented_text)"
   ]
  },
  {
   "cell_type": "code",
   "execution_count": 7,
   "metadata": {
    "scrolled": true
   },
   "outputs": [
    {
     "name": "stderr",
     "output_type": "stream",
     "text": [
      "ERROR:root:Internal Python error in the inspect module.\n",
      "Below is the traceback from this internal error.\n",
      "\n"
     ]
    },
    {
     "name": "stdout",
     "output_type": "stream",
     "text": [
      "Traceback (most recent call last):\n",
      "  File \"c:\\users\\0000011306852\\appdata\\local\\programs\\python\\python36\\lib\\site-packages\\IPython\\core\\interactiveshell.py\", line 3326, in run_code\n",
      "    exec(code_obj, self.user_global_ns, self.user_ns)\n",
      "  File \"<ipython-input-7-5be3138ea1c5>\", line 6, in <module>\n",
      "    action=\"substitute\")\n",
      "  File \"c:\\users\\0000011306852\\appdata\\local\\programs\\python\\python36\\lib\\site-packages\\nlpaug\\augmenter\\word\\word_embs.py\", line 88, in __init__\n",
      "    top_k=self.top_k)\n",
      "  File \"c:\\users\\0000011306852\\appdata\\local\\programs\\python\\python36\\lib\\site-packages\\nlpaug\\augmenter\\word\\word_embs.py\", line 98, in get_model\n",
      "    return init_word_embs_model(model_path, model_type, force_reload, top_k=top_k)\n",
      "  File \"c:\\users\\0000011306852\\appdata\\local\\programs\\python\\python36\\lib\\site-packages\\nlpaug\\augmenter\\word\\word_embs.py\", line 27, in init_word_embs_model\n",
      "    model.read(model_path)\n",
      "  File \"c:\\users\\0000011306852\\appdata\\local\\programs\\python\\python36\\lib\\site-packages\\nlpaug\\model\\word_embs\\glove.py\", line 21, in read\n",
      "    for line in f:\n",
      "  File \"c:\\users\\0000011306852\\appdata\\local\\programs\\python\\python36\\lib\\codecs.py\", line 318, in decode\n",
      "    def decode(self, input, final=False):\n",
      "KeyboardInterrupt\n",
      "\n",
      "During handling of the above exception, another exception occurred:\n",
      "\n",
      "Traceback (most recent call last):\n",
      "  File \"c:\\users\\0000011306852\\appdata\\local\\programs\\python\\python36\\lib\\site-packages\\IPython\\core\\interactiveshell.py\", line 2040, in showtraceback\n",
      "    stb = value._render_traceback_()\n",
      "AttributeError: 'KeyboardInterrupt' object has no attribute '_render_traceback_'\n",
      "\n",
      "During handling of the above exception, another exception occurred:\n",
      "\n",
      "Traceback (most recent call last):\n",
      "  File \"c:\\users\\0000011306852\\appdata\\local\\programs\\python\\python36\\lib\\site-packages\\IPython\\core\\ultratb.py\", line 1101, in get_records\n",
      "    return _fixed_getinnerframes(etb, number_of_lines_of_context, tb_offset)\n",
      "  File \"c:\\users\\0000011306852\\appdata\\local\\programs\\python\\python36\\lib\\site-packages\\IPython\\core\\ultratb.py\", line 319, in wrapped\n",
      "    return f(*args, **kwargs)\n",
      "  File \"c:\\users\\0000011306852\\appdata\\local\\programs\\python\\python36\\lib\\site-packages\\IPython\\core\\ultratb.py\", line 353, in _fixed_getinnerframes\n",
      "    records = fix_frame_records_filenames(inspect.getinnerframes(etb, context))\n",
      "  File \"c:\\users\\0000011306852\\appdata\\local\\programs\\python\\python36\\lib\\inspect.py\", line 1490, in getinnerframes\n",
      "    frameinfo = (tb.tb_frame,) + getframeinfo(tb, context)\n",
      "  File \"c:\\users\\0000011306852\\appdata\\local\\programs\\python\\python36\\lib\\inspect.py\", line 1448, in getframeinfo\n",
      "    filename = getsourcefile(frame) or getfile(frame)\n",
      "  File \"c:\\users\\0000011306852\\appdata\\local\\programs\\python\\python36\\lib\\inspect.py\", line 696, in getsourcefile\n",
      "    if getattr(getmodule(object, filename), '__loader__', None) is not None:\n",
      "  File \"c:\\users\\0000011306852\\appdata\\local\\programs\\python\\python36\\lib\\inspect.py\", line 739, in getmodule\n",
      "    f = getabsfile(module)\n",
      "  File \"c:\\users\\0000011306852\\appdata\\local\\programs\\python\\python36\\lib\\inspect.py\", line 708, in getabsfile\n",
      "    _filename = getsourcefile(object) or getfile(object)\n",
      "  File \"c:\\users\\0000011306852\\appdata\\local\\programs\\python\\python36\\lib\\inspect.py\", line 693, in getsourcefile\n",
      "    if os.path.exists(filename):\n",
      "  File \"c:\\users\\0000011306852\\appdata\\local\\programs\\python\\python36\\lib\\genericpath.py\", line 19, in exists\n",
      "    os.stat(path)\n",
      "KeyboardInterrupt\n"
     ]
    },
    {
     "ename": "KeyboardInterrupt",
     "evalue": "",
     "output_type": "error",
     "traceback": [
      "\u001b[1;31m---------------------------------------------------------------------------\u001b[0m"
     ]
    }
   ],
   "source": [
    "# word2vecベースのAugmentation\n",
    "\n",
    "aug_w2v = naw.WordEmbsAug(\n",
    "#     model_type='word2vec', model_path=GLOVE_EMBEDDING_PATH,\n",
    "    model_type='glove', model_path=GLOVE_EMBEDDING_PATH,\n",
    "    action=\"substitute\")"
   ]
  },
  {
   "cell_type": "code",
   "execution_count": null,
   "metadata": {},
   "outputs": [],
   "source": [
    "text = 'The quick brown fox jumps over the lazy dog .'\n",
    "print('original: ', text)\n",
    "\n",
    "aug_w2v.aug_p=0.1\n",
    "for _ in range(5):\n",
    "    augmented_text = aug_w2v.augment(text)\n",
    "    print(augmented_text)"
   ]
  },
  {
   "cell_type": "code",
   "execution_count": null,
   "metadata": {},
   "outputs": [],
   "source": [
    "#BERT Augmentator\n",
    "TOPK = 20 #default=100\n",
    "ACT = 'insert' #\"substitute\"\n",
    "\n",
    "aug_bert = nas.ContextualWordEmbsAug(\n",
    "    model_path=BERT_DIR+'/bert-base-uncased', \n",
    "    #device='cuda',\n",
    "    action=ACT, top_k=TOPK)\n",
    "\n",
    "text = 'The quick brown fox jumps over the lazy dog .'\n",
    "print(\"original:\", text)\n",
    "for _ in range(5):\n",
    "    augmented_text = aug_bert.augment(text)\n",
    "    print(augmented_text)"
   ]
  },
  {
   "cell_type": "code",
   "execution_count": null,
   "metadata": {},
   "outputs": [],
   "source": []
  },
  {
   "cell_type": "code",
   "execution_count": null,
   "metadata": {},
   "outputs": [],
   "source": [
    "aug2 = naf.Sometimes([\n",
    "    aug_bert,aug_w2v\n",
    "], aug_p=0.5, pipeline_p=0.5)\n",
    "\n",
    "aug2.augment(text, n=10)"
   ]
  }
 ],
 "metadata": {
  "kernelspec": {
   "display_name": "Python 3",
   "language": "python",
   "name": "python3"
  },
  "language_info": {
   "codemirror_mode": {
    "name": "ipython",
    "version": 3
   },
   "file_extension": ".py",
   "mimetype": "text/x-python",
   "name": "python",
   "nbconvert_exporter": "python",
   "pygments_lexer": "ipython3",
   "version": "3.6.8"
  }
 },
 "nbformat": 4,
 "nbformat_minor": 2
}
